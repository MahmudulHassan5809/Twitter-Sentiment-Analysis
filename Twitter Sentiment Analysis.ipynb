{
 "cells": [
  {
   "cell_type": "markdown",
   "metadata": {},
   "source": [
    "# Load Libraries"
   ]
  },
  {
   "cell_type": "code",
   "execution_count": 25,
   "metadata": {},
   "outputs": [],
   "source": [
    "import tweepy\n",
    "import re \n",
    "import pickle"
   ]
  },
  {
   "cell_type": "code",
   "execution_count": 26,
   "metadata": {},
   "outputs": [],
   "source": [
    "from tweepy import OAuthHandler"
   ]
  },
  {
   "cell_type": "markdown",
   "metadata": {},
   "source": [
    "# Initializing The Keys\n",
    "### Please Replace With Your Own Keys"
   ]
  },
  {
   "cell_type": "code",
   "execution_count": 27,
   "metadata": {},
   "outputs": [],
   "source": [
    "consumer_key = 'yoIwFkjZGYDa49aO16XqSNqcN'\n",
    "consumer_secret = 'gl4LQOItV7Z1aFwNrlvaiKJ3t8o8h99blMIAmnmdHxYjzjRAxO'\n",
    "access_token = '624310916-E7fDF2IE8P6bfY1oVFglASf6F8RnxMd3vgSXFqnZ'\n",
    "access_secret = 'ID9JcoXHsDcKtvNcnmBGcCQhUlO0wmwAxBJ6LCesiUAas'"
   ]
  },
  {
   "cell_type": "markdown",
   "metadata": {},
   "source": [
    "# Authentication"
   ]
  },
  {
   "cell_type": "code",
   "execution_count": 28,
   "metadata": {},
   "outputs": [],
   "source": [
    "auth = OAuthHandler(consumer_key,consumer_secret)\n",
    "auth.set_access_token(access_token,access_secret)"
   ]
  },
  {
   "cell_type": "code",
   "execution_count": 29,
   "metadata": {},
   "outputs": [],
   "source": [
    "args = ['facebook']\n",
    "api = tweepy.API(auth,timeout=10)"
   ]
  },
  {
   "cell_type": "markdown",
   "metadata": {},
   "source": [
    "# Fetch Data"
   ]
  },
  {
   "cell_type": "code",
   "execution_count": 30,
   "metadata": {},
   "outputs": [],
   "source": [
    "list_tweets = []\n",
    "query = args[0]\n",
    "if len(args) == 1:\n",
    "    for status in tweepy.Cursor(api.search,q=query+\" -filter:retweets\",lang='en',result_type='recent',geocode=\"22.1568,89.4332,500km\").items(100):\n",
    "        list_tweets.append(status.text)"
   ]
  },
  {
   "cell_type": "markdown",
   "metadata": {},
   "source": [
    "# Load Classifier And TF-IDF Model"
   ]
  },
  {
   "cell_type": "code",
   "execution_count": 31,
   "metadata": {},
   "outputs": [],
   "source": [
    "with open('clf.pickle','rb') as f:\n",
    "\tclf = pickle.load(f)\n",
    "with open('tfidfmodel.pickle','rb') as f:\n",
    "    tfidf = pickle.load(f)"
   ]
  },
  {
   "cell_type": "code",
   "execution_count": 32,
   "metadata": {},
   "outputs": [],
   "source": [
    "total_pos = 0\n",
    "total_neg = 0"
   ]
  },
  {
   "cell_type": "markdown",
   "metadata": {},
   "source": [
    "# Preprocessing The Tweets"
   ]
  },
  {
   "cell_type": "code",
   "execution_count": 33,
   "metadata": {},
   "outputs": [
    {
     "name": "stdout",
     "output_type": "stream",
     "text": [
      " message from freedom fighter to our sohel taj  :  [1]\n",
      "mission technology transfer organised workshop on intellectual property rights on at rgniipm nagpu  :  [1]\n",
      "my answer to how do you have someone facebook  :  [0]\n",
      "old dhaka foor barkhor khani nirob hotel beauty lassi hajir biriyani nanna biryani made it in this video thoug  :  [1]\n",
      "best wishes on this wonderful journey at gania nayagarh  :  [1]\n",
      "my page has unlimited space so please join me there rather requesting in my limited profile  :  [0]\n",
      " aiyshwaryam specially hyper active facebook user like this  :  [1]\n",
      "celebrity entry performance  :  [1]\n",
      "check it out dorjoy will logo resize for facebook google instagram for on fiverr  :  [0]\n",
      " posted new video to facebook  :  [0]\n",
      "smile  :  [1]\n",
      "this is definitely friendship destroyer boardkings  :  [1]\n",
      " posted new video to facebook  :  [0]\n",
      "with sheetal jain ji long time associate to mr bachchan lover of shayari and good soul talking his  :  [1]\n",
      "ami lal lal fiter lege kende chilam maa dj song youtube download dj mp  :  [1]\n",
      " saibabushaan babushaansai facebook thank you so much babushaansai bhai  :  [0]\n",
      "can not control my emotions love live team lt  :  [1]\n",
      " kolkatapolice sir this girl should be arrested in posting hate content against india  :  [0]\n",
      "his profile link is  :  [1]\n",
      "five days to go are you impatient are you excited see which of your favorite artists are going to play for yo  :  [0]\n",
      " had tears in my eyes at the end  :  [0]\n",
      "major responsibilities primarily responsible for proactive sales activities plan amp visit customers for genera  :  [1]\n",
      " posted new video to facebook  :  [0]\n",
      "miss babam feeling missing at mirpur  :  [1]\n",
      " hope you don  :  [0]\n",
      "so didn know about this facebook angellist  :  [0]\n",
      " exposedeshdrohis blrcitypolice please take action squintneon trueindology muglikar_ abhijitmajumder  :  [0]\n",
      " posted new video to facebook  :  [0]\n",
      "opportunity to join team position customer care manager executive representative vaca  :  [0]\n",
      "the best video ever made on tiktok  :  [0]\n",
      " congratulations and best wishes for your next adventure brother at dhaka international mobile film festival  :  [1]\n",
      "loved it lt  :  [1]\n",
      "rlif the th betfred world club challenge clash takes place tonight can the wigan warriors repeat their success  :  [1]\n",
      "major responsibilities advise management on ehs principles and formulate country specific ehs policy guideline  :  [0]\n",
      "conducting monthly traning program for food and beversge team on food safety and hygiene feeling positive at  :  [1]\n",
      " zoo_bear aamadmy rahulroushan don support it but some brats on facebook and twitter need it actually :  [0]\n",
      "it is clear from the statements of the soldiers and family that indian army personnel are not made only to sacrifice  :  [1]\n",
      " color of our tri color  :  [1]\n",
      "holy family medical college ii dj rahat ii after movie  :  [1]\n",
      " not only cyberwar we need complete terrorist free nation we have to justify terroris  :  [0]\n",
      " village grassland water road nature naturephotography photography natural photographer instagram  :  [1]\n",
      "about last night  :  [1]\n",
      " posted new video to facebook  :  [0]\n",
      "step up western dance academy amp fitness zone presents dance carnival award program inaugurated by honourable jus  :  [1]\n",
      "park bom official daum fan cafe in details official links access links to the official accounts of park bom  :  [0]\n",
      "jai hind jai jawan respect them they the heros of our nation  :  [0]\n",
      "great move but very late  :  [1]\n",
      "the day of xavion started with the workshop on the topic indipreneur the big in association with  :  [0]\n",
      "ulab organized financial inclusion summit shift uncdf was technical partner in this well organized summit  :  [1]\n",
      "fiesty forty homage to pulwama martyrs crpfindia thinking of the departed souls lyrics of crpf song are ech  :  [1]\n",
      "smt priyanka gandhi vadra respected general secretary aicc c east up spoke to the father of soldier who sacri  :  [1]\n",
      "smt priyanka gandhi vadra respected general secretary aicc c east up spoke to the father of soldier who sacri  :  [1]\n",
      "please inbox me to buy the tickets  :  [1]\n",
      "wow ami just amazed hoi  :  [1]\n",
      "this is hospital mafia the most profitable business now days you never claim only doctors behind the sce  :  [1]\n",
      "goosebumps  :  [1]\n",
      "un volunteers are contributing un in bangladesh to support sdg grateful to un agencies for engaging un  :  [1]\n",
      " st performance of carnival award program ganesh vandana  :  [1]\n",
      " never sympathise with snakes like these terrorists but found this really great to share  :  [1]\n",
      "how to lose friends step play boardkings together step done  :  [1]\n",
      " posted new video to facebook  :  [0]\n",
      " posted new video to facebook  :  [0]\n",
      "besttttttt lt  :  [1]\n",
      " rupamislam on bartaman patrika check it out  :  [0]\n",
      " posted new video to facebook  :  [0]\n",
      "facebook may remove anti vaccine content  :  [1]\n",
      "sunday time pass watching gully boy trailer at inox swabhumimd nurul alam potul  :  [0]\n",
      "papri banerjee an assistant professor at guwahati icon academy junior college has been suspended by her college  :  [1]\n",
      "no to harassment the tenth edition of chobi mela provides moment for self reflection core principles which its  :  [1]\n",
      "no matter how much we lose don do anything please  :  [0]\n",
      "horror clips  :  [1]\n",
      " posted new video to facebook  :  [0]\n",
      "line walker shootings line_walker at marrybrown maharbandoola  :  [0]\n",
      "cultural club of canadian university of bangladesh celebrated bashanta uthsab on th february at its  :  [0]\n",
      "check it out will design amazing facebook ads for restaurants for on fiverr  :  [1]\n",
      " hv found an employee of your company mindtree_ltd pritam utpallodhi is doing this type of instigating post in fb  :  [1]\n",
      "some personal issues at powai mumbai  :  [1]\n",
      " radiopakistan news headlines of pm foe details please visit  :  [1]\n",
      "our alumnus elixir imaginations has shot mahabaleshwar in this clip the beautiful thing is that entire of the vid  :  [1]\n",
      " posted new video to facebook  :  [0]\n",
      "leftist liberals  :  [1]\n",
      "few days back srk did donation of cr for indian army not many know about it think twice before said any  :  [0]\n",
      " repost babushaansai congratulations to all the winners it was wonderful sunday morning with all of you than  :  [1]\n",
      "philips satinelle epilator hp check online  :  [0]\n",
      "sosta neshar effect  :  [1]\n",
      "when women find solace support and strength in each other through facebook groups  :  [1]\n",
      "want to stay connected on facebook like the page at  :  [0]\n",
      " shequal by lionsclubinternational district last evening witnessed distinguished panel that of power  :  [0]\n",
      " posted new video to facebook  :  [0]\n",
      "happy birthday boss  :  [1]\n",
      " yes can  :  [0]\n",
      "truth  :  [1]\n",
      " askanshul askanshul bhaiya have look here too  :  [0]\n",
      " posted new video to facebook  :  [0]\n",
      "truth has been spoken  :  [1]\n",
      " posted new video to facebook  :  [0]\n",
      "from mascordbrownz great day today at the triple header in sydney hosted by the glebe dirty reds thank you very  :  [1]\n",
      "superb story with meaningful social message featuring esha_deol beautifully directed by ramkamal and produce  :  [1]\n",
      " posted new video to facebook  :  [0]\n",
      "live from agartala launching of united tiprasa forum utf official website amp shirts  :  [1]\n"
     ]
    }
   ],
   "source": [
    "for tweet in list_tweets:\n",
    "    tweet = re.sub(r\"^https://t.co/[a-zA-Z0-9]*\\s\",\" \" ,tweet)\n",
    "    tweet = re.sub(r\"\\s+https://t.co/[a-zA-Z0-9]*\\s\",\" \" ,tweet)\n",
    "    tweet = re.sub(r\"\\s+https://t.co/[a-zA-Z0-9]*$\",\" \" ,tweet)\n",
    "    tweet = tweet.lower()\n",
    "    tweet = re.sub(r\"thats's\",\"that is\",tweet)\n",
    "    tweet = re.sub(r\"there's\",\"there is\",tweet)\n",
    "    tweet = re.sub(r\"what's\",\"what is\",tweet)\n",
    "    tweet = re.sub(r\"where's\",\"where is\",tweet)\n",
    "    tweet = re.sub(r\"it's\",\"it is\",tweet)\n",
    "    tweet = re.sub(r\"who's\",\"who is\",tweet)\n",
    "    tweet = re.sub(r\"i'm\",\"i am\",tweet)\n",
    "    tweet = re.sub(r\"she's\",\"she is\",tweet)\n",
    "    tweet = re.sub(r\"he's\",\"he is\",tweet)\n",
    "    tweet = re.sub(r\"they're\",\"they are\",tweet)\n",
    "    tweet = re.sub(r\"who're\",\"who are\",tweet)\n",
    "    tweet = re.sub(r\"ain't\",\"am not\",tweet)\n",
    "    tweet = re.sub(r\"wouldn't\",\"would not\",tweet)\n",
    "    tweet = re.sub(r\"shouldn't\",\"should not\",tweet)\n",
    "    tweet = re.sub(r\"can't\",\"can not\",tweet)\n",
    "    tweet = re.sub(r\"couldn't\",\"could not\",tweet)\n",
    "    tweet = re.sub(r\"won't\",\"will not\",tweet)\n",
    "    tweet = re.sub(r\"\\W\",\" \",tweet)\n",
    "    tweet = re.sub(r\"\\d\",\" \",tweet)\n",
    "    tweet = re.sub(r\"\\s+[a-z]\\s+\",\" \",tweet)\n",
    "    tweet = re.sub(r\"\\s+[a-z]$\",\" \",tweet)\n",
    "    tweet = re.sub(r\"^[a-z]\\s+\",\" \",tweet)\n",
    "    tweet = re.sub(r\"\\s+\",\" \",tweet)\n",
    "    #print(tweet)\n",
    "    sent = clf.predict(tfidf.transform([tweet]).toarray())\n",
    "    print(tweet,\": \" ,sent)\n",
    "    if sent[0] == 1:\n",
    "        total_pos += 1\n",
    "    else:\n",
    "        total_neg += 1"
   ]
  },
  {
   "cell_type": "markdown",
   "metadata": {},
   "source": [
    "# # Visualizing the results"
   ]
  },
  {
   "cell_type": "code",
   "execution_count": 34,
   "metadata": {},
   "outputs": [
    {
     "data": {
      "image/png": "[encoded data removed]",
      "text/plain": [
       "<Figure size 432x288 with 1 Axes>"
      ]
     },
     "metadata": {
      "needs_background": "light"
     },
     "output_type": "display_data"
    }
   ],
   "source": [
    "import matplotlib.pyplot as plt\n",
    "import numpy as np\n",
    "objects = ['Positive','Negative']\n",
    "y_pos = np.arange(len(objects))\n",
    "\n",
    "plt.bar(y_pos,[total_pos,total_neg],alpha=0.5)\n",
    "plt.xticks(y_pos,objects)\n",
    "plt.ylabel('Number')\n",
    "plt.title('Number of Postive and Negative Tweets')\n",
    "\n",
    "plt.show()"
   ]
  },
  {
   "cell_type": "code",
   "execution_count": null,
   "metadata": {},
   "outputs": [],
   "source": []
  }
 ],
 "metadata": {
  "kernelspec": {
   "display_name": "Python 3",
   "language": "python",
   "name": "python3"
  },
  "language_info": {
   "codemirror_mode": {
    "name": "ipython",
    "version": 3
   },
   "file_extension": ".py",
   "mimetype": "text/x-python",
   "name": "python",
   "nbconvert_exporter": "python",
   "pygments_lexer": "ipython3",
   "version": "3.7.0"
  }
 },
 "nbformat": 4,
 "nbformat_minor": 2
}
